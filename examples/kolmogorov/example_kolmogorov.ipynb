{
 "cells": [
  {
   "cell_type": "markdown",
   "id": "f94f7302-071d-4431-a28a-90af49a35450",
   "metadata": {},
   "source": [
    "# Expanding the slow SSM in Kolmogorov flow"
   ]
  },
  {
   "cell_type": "markdown",
   "id": "a0da592d-3935-4759-8072-08b52954a2df",
   "metadata": {},
   "source": [
    "We find the one-dimensional slow spectral submanifold (SSM) of the  stable fixed point $\\omega_{1}$ in Kolmogorov flow at $Re=11$. \n",
    "\n"
   ]
  },
  {
   "cell_type": "markdown",
   "id": "d8dc6e7d-1cd8-47d6-918a-3b55beb50442",
   "metadata": {},
   "source": [
    "Working with Fourier coefficients, the slow SSM is parametrized as\n",
    "\n",
    "$$\\hat{\\omega} = \\mathbf{W}(\\xi)$$.\n",
    "\n",
    "This computation is carried out automatically by [SSMTool](https://github.com/haller-group/SSMTool-2.4), which returns the coefficients of the Taylor expansion of $\\mathbf{W}(\\xi)$ and the reduced dynamics on the SSM as\n",
    "$$    \\hat{\\omega}(k_x, k_y) = \\mathbf{W}(\\xi) = \\sum_{k}\\mathbf{W}_k \\xi^k\n",
    "$$\n",
    "\n",
    "$$\n",
    "    \\dot{\\xi} = R(\\xi) = \\sum_{k}R_k \\xi^k\n",
    "$$"
   ]
  },
  {
   "cell_type": "markdown",
   "id": "6ef4728b-71e1-4133-80fd-3bfc93ec3590",
   "metadata": {},
   "source": [
    "## Recover SSMTool results"
   ]
  },
  {
   "cell_type": "code",
   "execution_count": 56,
   "id": "9800ac05-587f-4286-afcf-d3374d96a1a3",
   "metadata": {},
   "outputs": [],
   "source": [
    "import numpy as np\n",
    "from scipy.io import loadmat\n",
    "import sympy as sy\n",
    "p1= sy.symbols('p_1')\n",
    "var = np.array([p1]).reshape(1,1)\n",
    "import taylor_to_pade"
   ]
  },
  {
   "cell_type": "code",
   "execution_count": 57,
   "id": "b29f6177-0c5e-46f0-a691-798fd5d44d4b",
   "metadata": {},
   "outputs": [],
   "source": [
    "from taylor_to_pade.matlab_integration import *\n",
    "from taylor_to_pade.approximant import TaylorSeries, PadeApproximant"
   ]
  },
  {
   "cell_type": "code",
   "execution_count": 58,
   "id": "102ae39a-054a-4dd7-8617-c56269f92307",
   "metadata": {},
   "outputs": [],
   "source": [
    "def approximate_mfd(xi, order, omega_list):\n",
    "    omega = xi**0 * omega_list[0]\n",
    "    for o in range(1,order):\n",
    "        omega += xi**o * omega_list[o]\n",
    "    return omega"
   ]
  },
  {
   "cell_type": "code",
   "execution_count": 59,
   "id": "0cb94ecf-aee5-4334-9d7b-cf2351ef206f",
   "metadata": {},
   "outputs": [],
   "source": [
    "def extract_w0_new(matt):\n",
    "    mat_array = []\n",
    "    matt = matt['W_0'][0]\n",
    "    order = len(matt)\n",
    "    for i in range(order):\n",
    "        dictt = {}\n",
    "        if matt['coeffs'][i].shape[0]>0:\n",
    "            dictt['coeffs'] = np.array(matt['coeffs'][i])\n",
    "            dictt['ind'] = np.array(matt['ind'][i], dtype= int)\n",
    "        else:\n",
    "            dictt['coeffs'] = []\n",
    "            dictt['ind'] = []\n",
    "        mat_array.append(dictt)\n",
    "    return mat_array\n"
   ]
  },
  {
   "cell_type": "code",
   "execution_count": 60,
   "id": "aaba9f24-a2aa-4eee-9386-6302d02331a8",
   "metadata": {},
   "outputs": [],
   "source": [
    "def extract_r0_new(matt):\n",
    "    mat_array = []\n",
    "    matt = matt['R_0'][0]\n",
    "    order = len(matt)\n",
    "    for i in range(order):\n",
    "        dictt = {}\n",
    "        if matt['coeffs'][i].shape[0]>0:\n",
    "            dictt['coeffs'] = np.array(matt['coeffs'][i])\n",
    "            dictt['ind'] = np.array(matt['ind'][i], dtype= int)\n",
    "        else:\n",
    "            dictt['coeffs'] = []\n",
    "            dictt['ind'] = []\n",
    "        mat_array.append(dictt)\n",
    "    return mat_array\n"
   ]
  },
  {
   "cell_type": "code",
   "execution_count": 63,
   "id": "58c54646-8297-4143-9c3e-d7e5699bfcc4",
   "metadata": {},
   "outputs": [],
   "source": [
    "Re = 11.\n",
    "\n",
    "mat = loadmat(\"unstable_mfd_fourier_data_sept21_re_11__0_.mat\")\n",
    "mat['W_0'] = mat['W0']\n",
    "mat['R_0'] = mat['R0']\n",
    "del mat['R0']\n",
    "del mat['W0']\n",
    "matt = mat['W_0'][0]\n",
    "W0 = extract_w0_new(mat) # get parametrization\n",
    "R0 = extract_r0_new(mat) # get reduced dyn"
   ]
  },
  {
   "cell_type": "code",
   "execution_count": 64,
   "id": "32daaab7-f46e-450f-98e3-665f0efb89c3",
   "metadata": {},
   "outputs": [],
   "source": [
    "# assemble symbolic expression for reduced dyn\n",
    "reduced_dyn = p1*0\n",
    "R0[0]['coeffs'] = R0[0]['coeffs'].item().toarray()\n",
    "coeffs_numpy = [0]\n",
    "for r in R0:\n",
    "    ind_ = r['ind'][0][0]\n",
    "    coeff = r['coeffs'][0][0].real\n",
    "    reduced_dyn += coeff * p1**ind_\n",
    "    coeffs_numpy.append(coeff)"
   ]
  },
  {
   "cell_type": "markdown",
   "id": "89c0421a-a367-4a8f-ba42-20c97d410484",
   "metadata": {},
   "source": [
    "We also recover the simulated trajectories on the heteroclinic orbit"
   ]
  },
  {
   "cell_type": "code",
   "execution_count": 66,
   "id": "c4ba2077-bd47-4bd2-b063-e4c029101a54",
   "metadata": {},
   "outputs": [],
   "source": [
    "\n",
    "dat = hdf5storage.read(filename = \"Kolmogorov_coefficients_around_fp.mat\")\n",
    "w_0_ft = dat['w0']\n",
    "plus = dat['plus']\n",
    "minus = dat['minus']\n",
    "\n",
    "coeffs_param = [w_0_ft]\n",
    "for w in W0:\n",
    "    coeff = w['coeffs']\n",
    "    coeffs_param.append(np.squeeze(coeff))\n"
   ]
  },
  {
   "cell_type": "markdown",
   "id": "5077dd66-1719-45dc-817a-d2a321575f7b",
   "metadata": {
    "tags": []
   },
   "source": [
    "## Visualize the manifold \n",
    "\n",
    "We select the wave numbers that are most dominant in the flow. "
   ]
  },
  {
   "cell_type": "code",
   "execution_count": 151,
   "id": "993103ae-f694-4b4b-89be-642b9ca9e7d0",
   "metadata": {},
   "outputs": [],
   "source": [
    "indices = np.arange(0, 576, 1)\n",
    "where_lam = np.abs(plus[:,0])>1"
   ]
  },
  {
   "cell_type": "code",
   "execution_count": 152,
   "id": "43b33eba-74e8-4c00-b956-493d43a21b7e",
   "metadata": {},
   "outputs": [
    {
     "data": {
      "text/plain": [
       "array([ 4, 20])"
      ]
     },
     "execution_count": 152,
     "metadata": {},
     "output_type": "execute_result"
    }
   ],
   "source": [
    "indices[where_lam]"
   ]
  },
  {
   "cell_type": "code",
   "execution_count": 157,
   "id": "edf4d6d9-30ce-48f8-8f5c-e94c7513cbac",
   "metadata": {},
   "outputs": [
    {
     "data": {
      "text/plain": [
       "tensor(4., dtype=torch.float64, grad_fn=<SelectBackward0>)"
      ]
     },
     "execution_count": 157,
     "metadata": {},
     "output_type": "execute_result"
    }
   ],
   "source": [
    "ky.ravel()[4]"
   ]
  },
  {
   "cell_type": "markdown",
   "id": "dca0dc06-6877-4a18-a331-0d4256399d00",
   "metadata": {},
   "source": [
    "The indices 4 and 20 corresponds to the mean flow: \n"
   ]
  },
  {
   "cell_type": "code",
   "execution_count": 163,
   "id": "06ef67b2-a3ac-4b0a-b158-fe8804ddd51a",
   "metadata": {},
   "outputs": [
    {
     "name": "stdout",
     "output_type": "stream",
     "text": [
      "k_x=0.0, k_y = 4.0\n"
     ]
    }
   ],
   "source": [
    "print(\"k_x=%s, k_y = %s\" %(kx.ravel()[4].item(), ky.ravel()[4].item()))"
   ]
  },
  {
   "cell_type": "code",
   "execution_count": 164,
   "id": "abeb4772-75db-4bcf-80ee-7babc285b366",
   "metadata": {},
   "outputs": [
    {
     "name": "stdout",
     "output_type": "stream",
     "text": [
      "k_x=0.0, k_y = -4.0\n"
     ]
    }
   ],
   "source": [
    "print(\"k_x=%s, k_y = %s\" %(kx.ravel()[20].item(), ky.ravel()[20].item()))"
   ]
  },
  {
   "cell_type": "markdown",
   "id": "024cf966-0b5e-48b8-8e1b-d73fb1a3416d",
   "metadata": {},
   "source": [
    "Same with the nontriv fp:"
   ]
  },
  {
   "cell_type": "code",
   "execution_count": 166,
   "id": "3860666b-fe00-460c-922e-eff25b6258be",
   "metadata": {},
   "outputs": [],
   "source": [
    "ind1, ind2, ind3 = 20, 28, 44"
   ]
  },
  {
   "cell_type": "markdown",
   "id": "d3af7bb7-b115-4a31-bc8e-cb30e75fb69c",
   "metadata": {},
   "source": [
    "The indices 28 and 44 denote the appearence of $x$-dependent modifications of the mean flow. "
   ]
  },
  {
   "cell_type": "code",
   "execution_count": 182,
   "id": "52d50de3-6733-4112-b78c-b3a88c21cd41",
   "metadata": {},
   "outputs": [],
   "source": [
    "from scipy.interpolate import pade"
   ]
  },
  {
   "cell_type": "code",
   "execution_count": 186,
   "id": "00d7887c-895d-4dce-932c-51fa07002496",
   "metadata": {},
   "outputs": [],
   "source": [
    "p, q = pade(coeffs_numpy, 5, 5)\n"
   ]
  },
  {
   "cell_type": "code",
   "execution_count": 193,
   "id": "569b0239-4be3-4eaf-9b41-c464d26bb02a",
   "metadata": {},
   "outputs": [
    {
     "name": "stderr",
     "output_type": "stream",
     "text": [
      "/opt/anaconda3/lib/python3.8/site-packages/scipy/interpolate/_pade.py:63: LinAlgWarning: Ill-conditioned matrix (rcond=2.65409e-29): result may not be accurate.\n",
      "  pq = linalg.solve(C, an)\n",
      "/opt/anaconda3/lib/python3.8/site-packages/scipy/interpolate/_pade.py:63: LinAlgWarning: Ill-conditioned matrix (rcond=1.96998e-30): result may not be accurate.\n",
      "  pq = linalg.solve(C, an)\n"
     ]
    }
   ],
   "source": [
    "coeffs_param = [w_0_ft]\n",
    "coeffs_param_28 = [w_0_ft[28]]\n",
    "coeffs_param_20 = [w_0_ft[20]]\n",
    "coeffs_param_44 = [w_0_ft[44]]\n",
    "\n",
    "for w in W0:\n",
    "    coeff = w['coeffs']\n",
    "    coeffs_param.append(np.squeeze(coeff))\n",
    "    coeffs_param_28.append(np.squeeze(coeff)[28])\n",
    "    coeffs_param_20.append(np.squeeze(coeff)[20])\n",
    "    coeffs_param_44.append(np.squeeze(coeff)[44])\n",
    "\n",
    "p_28, q_28 = pade(coeffs_param_28, 5, 5)\n",
    "p_20, q_20 = pade(coeffs_param_20, 5, 5)\n",
    "p_44, q_44 = pade(coeffs_param_44, 5, 5)\n"
   ]
  },
  {
   "cell_type": "code",
   "execution_count": 259,
   "id": "cc2e4d88-e1da-4435-8ed4-7407757e468d",
   "metadata": {},
   "outputs": [],
   "source": [
    "xis_numpy_tay = np.linspace(-300, 400, 3000).reshape(-1,1)\n",
    "taylor = approximate_mfd(xis_numpy_tay, 16, coeffs_param)\n",
    "xis_numpy_pade = np.linspace(-600, 800, 3000).reshape(-1,1)\n"
   ]
  },
  {
   "cell_type": "markdown",
   "id": "67ab9908-e4c8-4b59-8c71-2a8cbf90895f",
   "metadata": {},
   "source": [
    "Let us also add the linear approximation, i.e., the spectral subspace itself"
   ]
  },
  {
   "cell_type": "code",
   "execution_count": 279,
   "id": "69f9c127-2f95-4a19-87cb-8aafd69e58b9",
   "metadata": {},
   "outputs": [],
   "source": [
    "subspace = coeffs_param[0] + xis_numpy_pade * coeffs_param[1]"
   ]
  },
  {
   "cell_type": "code",
   "execution_count": 330,
   "id": "cfde036f-61ad-4047-a91d-3e0e50ac8d73",
   "metadata": {},
   "outputs": [],
   "source": [
    "plt.rcParams['text.usetex'] = True\n",
    "plt.rcParams.update({'font.size': 13, \"font.family\": \"serif\",})\n",
    "plt.rcParams.update({'text.latex.preamble':r\"\\usepackage{amsmath}\"})"
   ]
  },
  {
   "cell_type": "code",
   "execution_count": 331,
   "id": "9beb4ee6-4c9c-49ba-aab7-9e74118b932f",
   "metadata": {},
   "outputs": [
    {
     "name": "stderr",
     "output_type": "stream",
     "text": [
      "/opt/anaconda3/lib/python3.8/site-packages/matplotlib/cbook/__init__.py:1369: ComplexWarning: Casting complex values to real discards the imaginary part\n",
      "  return np.asarray(x, float)\n",
      "/opt/anaconda3/lib/python3.8/site-packages/matplotlib/cbook/__init__.py:1369: ComplexWarning: Casting complex values to real discards the imaginary part\n",
      "  return np.asarray(x, float)\n"
     ]
    },
    {
     "data": {
      "image/png": "[encoded data removed]",
      "text/plain": [
       "<Figure size 576x576 with 1 Axes>"
      ]
     },
     "metadata": {
      "needs_background": "light"
     },
     "output_type": "display_data"
    }
   ],
   "source": [
    "\n",
    "fig = plt.figure(figsize = (8, 8))\n",
    "ax = fig.add_subplot(111, projection = '3d')\n",
    "ax.plot(plus[ind2, :], plus[ind1, :], -plus[ind3, :], c= 'black', linewidth = 3, label = 'True orbit')\n",
    "ax.plot(minus[ind2, :], minus[ind1, :], -minus[ind3, :], c= 'black',  linewidth = 3)\n",
    "ax.plot(taylor[:, ind2], taylor[:, ind1], -taylor[:,ind3], c= 'crimson',  linewidth = 1,  label = 'SSM')\n",
    "\n",
    "ax.plot(p_28(xis_numpy_pade) / q_28(xis_numpy_pade),\n",
    "        p_20(xis_numpy_pade) / q_20(xis_numpy_pade),\n",
    "        -p_44(xis_numpy_pade) / q_44(xis_numpy_pade), c= 'orange',   label = 'gSSM')\n",
    "\n",
    "ax.plot(plus[ind2,0], plus[ind1,0], -plus[ind3,0], '.', markersize =10, c = 'Crimson')\n",
    "ax.plot(minus[ind2,-1], minus[ind1,-1], -minus[ind3,-1], '.', markersize =10, c = 'Black')\n",
    "ax.plot(plus[ind2,-1], plus[ind1,-1], -plus[ind3,-1], '.', markersize =10, c = 'Blue')\n",
    "ax.plot(subspace[:,ind2], subspace[:,ind1], -subspace[:,ind3], '--', c='grey')\n",
    "ax.legend()\n",
    "ax.set_xlabel('$\\hat{\\omega}(0, 4)$')\n",
    "ax.set_ylabel('$\\hat{\\omega}(1, 4)$')\n",
    "ax.set_zlabel('$\\hat{\\omega}(2, 4)$')\n",
    "\n",
    "\n",
    "ax.set_xlim(-200, 400)\n",
    "ax.set_ylim(-700, -400)\n",
    "ax.set_zlim(-500, 500)\n",
    "ax.view_init(elev=25, azim=45, roll=0)\n",
    "ax.set_box_aspect(None, zoom=0.85)"
   ]
  },
  {
   "cell_type": "code",
   "execution_count": 339,
   "id": "37914a5c-cb95-4e6f-af53-88ee4705f7f2",
   "metadata": {},
   "outputs": [],
   "source": [
    "\n",
    "red_color = [0.70567316, 0.01555616, 0.15023281, 1.        ]"
   ]
  },
  {
   "cell_type": "code",
   "execution_count": 340,
   "id": "7996b118-5628-410f-b402-d3c717df039e",
   "metadata": {},
   "outputs": [
    {
     "data": {
      "image/png": "[encoded data removed]",
      "text/plain": [
       "<Figure size 288x216 with 1 Axes>"
      ]
     },
     "metadata": {
      "needs_background": "light"
     },
     "output_type": "display_data"
    }
   ],
   "source": [
    "fig = plt.figure(figsize = (4, 3))\n",
    "ax3 = fig.add_subplot(111)\n",
    "\n",
    "xis_numpy = np.linspace(-900, 1500, 3000).reshape(-1,1)\n",
    "order = 16\n",
    "red_dyn = approximate_mfd(xis_numpy, order, coeffs_numpy).T\n",
    "ax3.plot(1*np.squeeze(xis_numpy), 1 *np.squeeze(red_dyn), '-', c=red_color)\n",
    "fixedpoint = np.roots(coeffs_numpy[:order][::-1])\n",
    "real_fixedpoints = fixedpoint[fixedpoint.imag == 0]\n",
    "filt = np.logical_and(real_fixedpoints<800, real_fixedpoints>-800)\n",
    "fp =real_fixedpoints[filt]\n",
    "ax3.plot(1* np.squeeze(xis_numpy) , 1 * p(np.squeeze(xis_numpy)) / q(np.squeeze(xis_numpy)),  '-', c= 'Orange')\n",
    "ax3.plot(0,0,'.', c='black', markersize = 15.)\n",
    "ax3.plot(xis_numpy[1725,0],0.,'.', c='red', markersize = 15.)\n",
    "\n",
    "ax3.set_ylim(-15, 15)\n",
    "\n",
    "ax3.set_xlim(-150, 800)\n",
    "#ax3.grid()\n",
    "ax3.plot(np.squeeze(xis_numpy), np.squeeze(xis_numpy)*0, '--', linewidth = 0.8, c='black')\n",
    "plt.savefig('kolmogorov_dynamics_1.pdf', bbox_inches='tight')"
   ]
  },
  {
   "cell_type": "code",
   "execution_count": 358,
   "id": "ba7ac227-e26a-4b39-bae0-0dfbdf0c75e7",
   "metadata": {},
   "outputs": [
    {
     "name": "stderr",
     "output_type": "stream",
     "text": [
      "/var/folders/63/3f75hvg57sg3ft1y4q72fj8mrcdrwp/T/ipykernel_544/2700493847.py:4: RuntimeWarning: overflow encountered in power\n",
      "  omega += xi**o * omega_list[o]\n",
      "/var/folders/63/3f75hvg57sg3ft1y4q72fj8mrcdrwp/T/ipykernel_544/2700493847.py:4: RuntimeWarning: invalid value encountered in add\n",
      "  omega += xi**o * omega_list[o]\n"
     ]
    },
    {
     "data": {
      "image/png": "[encoded data removed]",
      "text/plain": [
       "<Figure size 288x216 with 1 Axes>"
      ]
     },
     "metadata": {
      "needs_background": "light"
     },
     "output_type": "display_data"
    }
   ],
   "source": [
    "ff = plt.figure(figsize = (4,3))\n",
    "ax = ff.add_subplot(111)\n",
    "ax.plot(-teval, minus[20,:][::-1], c= 'black')\n",
    "ic_xi = 1e-5\n",
    "## integrate reduced model backward:\n",
    "red_lam = lambda t,x: approximate_mfd(x, order, coeffs_numpy).T\n",
    "ic_nn = approximate_mfd(ic_xi, o, coeffs_param).T\n",
    "forward_red = solve_ivp(red_lam, [0, time_length], [ic_xi], t_eval=teval).y\n",
    "backward_red = solve_ivp(red_lam, [0,-time_length], [ic_xi], t_eval=-teval)\n",
    "\n",
    "forward_red_par = approximate_mfd(forward_red.T, order, coeffs_param).T\n",
    "backward_red_par = approximate_mfd(backward_red.y.T, order, coeffs_param).T\n",
    "ax.plot(backward_red.t, backward_red_par[20,:], '-', c=red_color)\n",
    "    \n",
    "rade_red = lambda t, x :  p(np.squeeze(x)) / q(np.squeeze(x))\n",
    "backward_pade_red = solve_ivp(rade_red, [0,-time_length], [ic_xi], t_eval=-teval)\n",
    "backward_red_pade_par = p_20(np.squeeze(backward_pade_red.y)) / q_20(np.squeeze(backward_pade_red.y))\n",
    "ax.plot(-teval, backward_red_pade_par, '-', c='orange')\n",
    "ax.plot(0, minus[20,-1], '.', c='black', markersize = 12)\n",
    "ax.plot(-500, minus[20,0], '.', c='red', markersize = 12)\n",
    "\n",
    "ax.set_ylim(-900, -500)\n",
    "ax.set_xlim(-506, 6)\n",
    "plt.savefig('kolmogorov_time_traj.pdf', bbox_inches='tight')\n"
   ]
  }
 ],
 "metadata": {
  "hide_input": false,
  "kernelspec": {
   "display_name": "Python 3 (ipykernel)",
   "language": "python",
   "name": "python3"
  },
  "language_info": {
   "codemirror_mode": {
    "name": "ipython",
    "version": 3
   },
   "file_extension": ".py",
   "mimetype": "text/x-python",
   "name": "python",
   "nbconvert_exporter": "python",
   "pygments_lexer": "ipython3",
   "version": "3.8.8"
  },
  "toc": {
   "base_numbering": 1,
   "nav_menu": {},
   "number_sections": true,
   "sideBar": true,
   "skip_h1_title": false,
   "title_cell": "Table of Contents",
   "title_sidebar": "Contents",
   "toc_cell": false,
   "toc_position": {},
   "toc_section_display": true,
   "toc_window_display": false
  }
 },
 "nbformat": 4,
 "nbformat_minor": 5
}
