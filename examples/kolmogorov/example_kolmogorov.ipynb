{
 "cells": [
  {
   "cell_type": "markdown",
   "id": "f94f7302-071d-4431-a28a-90af49a35450",
   "metadata": {},
   "source": [
    "# Expanding the slow SSM in Kolmogorov flow"
   ]
  },
  {
   "cell_type": "markdown",
   "id": "a0da592d-3935-4759-8072-08b52954a2df",
   "metadata": {},
   "source": [
    "The vorticity equation is \n",
    "\n",
    "$$\n",
    "\\frac{\\partial \\omega }{\\partial t} = \\nu \\Delta \\omega - (u\\cdot \\nabla)\\omega + F\n",
    "$$"
   ]
  },
  {
   "cell_type": "markdown",
   "id": "b3cf4662-91a5-4985-8979-37ad50bb1379",
   "metadata": {},
   "source": [
    "The laminar solution is \n",
    "\n",
    "$$\n",
    "\\omega_0 = \\frac{1}{4\\nu}\\cos(4 y) \n",
    "$$\n",
    "\n",
    "with \n",
    "$$\n",
    "\\frac{\\partial \\omega_0}{\\partial t} = 0\n",
    "$$\n",
    "\n",
    "\n"
   ]
  },
  {
   "cell_type": "markdown",
   "id": "8302c620",
   "metadata": {},
   "source": [
    "### Implementation of the RHS of the vorticity equation in Fourier space"
   ]
  },
  {
   "cell_type": "markdown",
   "id": "dd45cb1e-ebe3-4f91-b5d7-5bd384d87cca",
   "metadata": {},
   "source": [
    "### Define the parameter independent terms"
   ]
  },
  {
   "cell_type": "code",
   "execution_count": 2,
   "id": "aa6eca94-b2eb-4a27-aced-e0e79dcc3417",
   "metadata": {},
   "outputs": [],
   "source": [
    "import matplotlib.pyplot as plt"
   ]
  },
  {
   "cell_type": "code",
   "execution_count": 3,
   "id": "00b5694e",
   "metadata": {},
   "outputs": [],
   "source": [
    "def gvars(n1, n2, L1, L2):\n",
    "    X = np.linspace(-L1/2, L1/2 - L1/n1, n1)\n",
    "    Y = np.linspace(-L2/2, L2/2 - L2/n2, n2)\n",
    "\n",
    "    x, y = np.meshgrid(X, Y, indexing='ij')\n",
    "\n",
    "    kx1 = np.concatenate((torch.arange(0, n1//2), \n",
    "                     torch.arange(-n1//2, 0))) * (2*np.pi/L1)\n",
    "    ky1 = np.concatenate((torch.arange(0, n2//2), \n",
    "                     torch.arange(-n2//2, 0))) * (2*np.pi/L2)\n",
    "\n",
    "    kx, ky = np.meshgrid(kx1, ky1, indexing = 'ij')\n",
    "\n",
    "    return x, y, kx, ky"
   ]
  },
  {
   "cell_type": "code",
   "execution_count": 4,
   "id": "df2aa228",
   "metadata": {},
   "outputs": [],
   "source": [
    "\n",
    "def dissipation_torch(w):\n",
    "    return torch.mean(w**2, axis = 0)"
   ]
  },
  {
   "cell_type": "code",
   "execution_count": 5,
   "id": "7e4a611e-b056-44dc-9067-1e6bafb71928",
   "metadata": {},
   "outputs": [],
   "source": [
    "def dealiasing_indices(kx, ky, n1, n2):\n",
    "    \"\"\"\n",
    "    2/3 dealiasing in torch\n",
    "    \"\"\"\n",
    "    # Chandler & Kerswell use this\n",
    "    ksq = kx**2 + ky**2\n",
    "    k0 = (n1/3)**2\n",
    "    k_cutoff = (ksq <= k0)  # This will give you a tensor of 1s and 0s, where condition holds\n",
    "\n",
    "    return k_cutoff"
   ]
  },
  {
   "cell_type": "code",
   "execution_count": 6,
   "id": "a984f669",
   "metadata": {},
   "outputs": [],
   "source": [
    "import torch\n",
    "import numpy as np\n",
    "\n",
    "def dealiase_torch(ff, kx, ky, n1, n2):\n",
    "    \"\"\"\n",
    "    2/3 dealiasing in torch\n",
    "    \"\"\"\n",
    "\n",
    "    # if real take to Fourier domain\n",
    "    RorC = torch.is_complex(ff)\n",
    "    if not RorC:\n",
    "        ff = torch.fft.fftn(ff)\n",
    "\n",
    "    # Chandler & Kerswell use this\n",
    "    ksq = kx**2 + ky**2\n",
    "    k0 = (n1/3)**2\n",
    "    k_cutoff = (ksq <= k0)  # This will give you a tensor of 1s and 0s, where condition holds\n",
    "\n",
    "    ff = k_cutoff * ff\n",
    "\n",
    "    # take back to physical domain\n",
    "    if not RorC:\n",
    "        ff = torch.fft.ifftn(ff).real  # 'symmetric' means we're expecting a real output\n",
    "\n",
    "    return ff"
   ]
  },
  {
   "cell_type": "code",
   "execution_count": 7,
   "id": "8c63afea",
   "metadata": {},
   "outputs": [],
   "source": [
    "L1 = 2*np.pi\n",
    "L2 = 2*np.pi \n",
    "n1 = 24\n",
    "n2 = 24\n",
    "\n",
    "x, y, kx, ky = gvars(n1,n2,L1,L2)\n",
    "x = torch.tensor(x, dtype = torch.float64, device=\"cpu\").requires_grad_(True)\n",
    "y = torch.tensor(y, dtype = torch.float64,device=\"cpu\").requires_grad_(True)\n",
    "kx = torch.tensor(kx, dtype = torch.float64, device=\"cpu\").requires_grad_(True)\n",
    "ky = torch.tensor(ky, dtype = torch.float64, device=\"cpu\").requires_grad_(True)\n"
   ]
  },
  {
   "cell_type": "code",
   "execution_count": 8,
   "id": "9b180ce3",
   "metadata": {},
   "outputs": [],
   "source": [
    "\n",
    "def rhs_torch_fourier_tf(w_flat, kx, ky, nu, x, y, n1, n2):\n",
    "    fw = w_flat.reshape((n1, n2))\n",
    "    ksq = kx**2 + ky**2\n",
    "\n",
    "    #fw = torch.fft.fftn(w)\n",
    "\n",
    "    # compute \\nabla\\omega\n",
    "    fwx = 1j*kx*fw; wx = torch.fft.ifftn(fwx).real\n",
    "    fwy = 1j*ky*fw; wy = torch.fft.ifftn(fwy).real\n",
    "    ksq2 = ksq.clone().detach()\n",
    "    ksq2[0,0] = 1e17 # to circumwent in-place modification of w\n",
    "    \n",
    "    \n",
    "    fpsi = fw / ksq2\n",
    "\n",
    "    fu1 =  1j*ky*fpsi; u1 = torch.fft.ifftn(fu1).real\n",
    "    fu2 = -1j*kx*fpsi; u2 = torch.fft.ifftn(fu2).real\n",
    "    # add NL term in physical domain\n",
    "    rhs_w =  -(u1*wx + u2*wy)\n",
    "    # add forcing\n",
    "    rhs_w2 = (rhs_w - 4*torch.cos(4*y))\n",
    "\n",
    "    # add dissipation term in Fourier domain\n",
    "    frhsw = torch.fft.fftn(rhs_w2)\n",
    "    frhsw2 = frhsw - nu*ksq*fw\n",
    "\n",
    "    # dealiase\n",
    "    frhsw = dealiase_torch(frhsw, kx, ky, n1, n2)\n",
    "\n",
    "    # take back to physical domain\n",
    "    #rhs_w = torch.fft.ifftn(frhsw2).real\n",
    "\n",
    "    return frhsw2.ravel()"
   ]
  },
  {
   "cell_type": "markdown",
   "id": "062a2442-aac7-4322-a47b-5271149d3ec8",
   "metadata": {},
   "source": [
    "## Export the coefficients in a loop"
   ]
  },
  {
   "cell_type": "code",
   "execution_count": 11,
   "id": "31c2086f-18be-48bc-8657-ba8ac1107d9e",
   "metadata": {},
   "outputs": [],
   "source": [
    "from scipy.integrate import solve_ivp"
   ]
  },
  {
   "cell_type": "code",
   "execution_count": 12,
   "id": "1d0ba609-c4cb-4ead-b8c9-ca28ca0002e3",
   "metadata": {},
   "outputs": [],
   "source": [
    "from tqdm import tqdm\n",
    "from scipy.io import savemat"
   ]
  },
  {
   "cell_type": "code",
   "execution_count": 13,
   "id": "576da7cf-47c9-471c-994a-e17c95f1d500",
   "metadata": {},
   "outputs": [],
   "source": [
    "import hdf5storage\n"
   ]
  },
  {
   "cell_type": "code",
   "execution_count": 15,
   "id": "801da1c6-e8c5-4a3b-b6f3-2e89f7cc5dc9",
   "metadata": {},
   "outputs": [],
   "source": [
    "def newton_method(F, u0, tol=1e-6, max_iter=1000):\n",
    "    \"\"\"Simple Newton's method.\"\"\"\n",
    "    u = u0.clone().detach().requires_grad_(True)\n",
    "    sol = {}\n",
    "    sol['u0'] = u0\n",
    "    for _ in range(max_iter):\n",
    "        #print(_)\n",
    "        f_val = F(u)\n",
    "        jacobian = torch.autograd.functional.jacobian(F, u) # derivative wrt u\n",
    "        du = -torch.linalg.lstsq(jacobian, f_val).solution\n",
    "\n",
    "        u  = u +  du.squeeze()\n",
    "        #print(torch.linalg.norm(F(u)))\n",
    "\n",
    "        if torch.linalg.norm(du) < tol:\n",
    "            sol['x'] = u\n",
    "            break\n",
    "    sol['x'] = u\n",
    "\n",
    "    if torch.linalg.norm(F(u)) < tol:\n",
    "        sol['success'] = 1\n",
    "    return sol"
   ]
  },
  {
   "cell_type": "markdown",
   "id": "6ef4728b-71e1-4133-80fd-3bfc93ec3590",
   "metadata": {},
   "source": [
    "## Recover results"
   ]
  },
  {
   "cell_type": "code",
   "execution_count": 28,
   "id": "9800ac05-587f-4286-afcf-d3374d96a1a3",
   "metadata": {},
   "outputs": [],
   "source": [
    "import numpy as np\n",
    "from scipy.io import loadmat\n",
    "import sympy as sy\n",
    "p1= sy.symbols('p_1')\n",
    "var = np.array([p1]).reshape(1,1)\n",
    "import taylor_to_pade"
   ]
  },
  {
   "cell_type": "code",
   "execution_count": 29,
   "id": "b29f6177-0c5e-46f0-a691-798fd5d44d4b",
   "metadata": {},
   "outputs": [],
   "source": [
    "from taylor_to_pade.matlab_integration import *\n",
    "from taylor_to_pade.approximant import TaylorSeries, PadeApproximant"
   ]
  },
  {
   "cell_type": "code",
   "execution_count": 30,
   "id": "102ae39a-054a-4dd7-8617-c56269f92307",
   "metadata": {},
   "outputs": [],
   "source": [
    "def approximate_mfd(xi, order, omega_list):\n",
    "    omega = xi**0 * omega_list[0]\n",
    "    for o in range(1,order):\n",
    "        omega += xi**o * omega_list[o]\n",
    "    return omega\n",
    "\n"
   ]
  },
  {
   "cell_type": "code",
   "execution_count": 31,
   "id": "0cb94ecf-aee5-4334-9d7b-cf2351ef206f",
   "metadata": {},
   "outputs": [],
   "source": [
    "def extract_w0_new(matt):\n",
    "    mat_array = []\n",
    "    matt = matt['W_0'][0]\n",
    "    order = len(matt)\n",
    "    for i in range(order):\n",
    "        dictt = {}\n",
    "        if matt['coeffs'][i].shape[0]>0:\n",
    "            dictt['coeffs'] = np.array(matt['coeffs'][i])\n",
    "            dictt['ind'] = np.array(matt['ind'][i], dtype= int)\n",
    "        else:\n",
    "            dictt['coeffs'] = []\n",
    "            dictt['ind'] = []\n",
    "        mat_array.append(dictt)\n",
    "    return mat_array\n"
   ]
  },
  {
   "cell_type": "code",
   "execution_count": 32,
   "id": "aaba9f24-a2aa-4eee-9386-6302d02331a8",
   "metadata": {},
   "outputs": [],
   "source": [
    "def extract_r0_new(matt):\n",
    "    mat_array = []\n",
    "    matt = matt['R_0'][0]\n",
    "    order = len(matt)\n",
    "    for i in range(order):\n",
    "        dictt = {}\n",
    "        if matt['coeffs'][i].shape[0]>0:\n",
    "            dictt['coeffs'] = np.array(matt['coeffs'][i])\n",
    "            dictt['ind'] = np.array(matt['ind'][i], dtype= int)\n",
    "        else:\n",
    "            dictt['coeffs'] = []\n",
    "            dictt['ind'] = []\n",
    "        mat_array.append(dictt)\n",
    "    return mat_array\n"
   ]
  },
  {
   "cell_type": "code",
   "execution_count": 35,
   "id": "58c54646-8297-4143-9c3e-d7e5699bfcc4",
   "metadata": {},
   "outputs": [],
   "source": [
    "Re_selected = 11."
   ]
  },
  {
   "cell_type": "code",
   "execution_count": 34,
   "id": "d3aa44c2-1f62-4c21-b377-064cd1b7056d",
   "metadata": {},
   "outputs": [
    {
     "name": "stderr",
     "output_type": "stream",
     "text": [
      "/opt/anaconda3/lib/python3.8/site-packages/matplotlib/cbook/__init__.py:1369: ComplexWarning: Casting complex values to real discards the imaginary part\n",
      "  return np.asarray(x, float)\n"
     ]
    },
    {
     "data": {
      "image/png": "[encoded data removed]",
      "text/plain": [
       "<Figure size 1080x360 with 3 Axes>"
      ]
     },
     "metadata": {
      "needs_background": "light"
     },
     "output_type": "display_data"
    }
   ],
   "source": [
    "Re = Re_selected\n",
    "filename = '/Users/bkaszas/data_for_matlab_coeffs_nontriv_fp_kolmogorov/unstable_mfd_fourier_data_sept21_re_%s_' %(Re)\n",
    "filename = filename.replace('.', '__')\n",
    "filename += '.mat'\n",
    "mat = loadmat(filename)\n",
    "mat['W_0'] = mat['W0']\n",
    "mat['R_0'] = mat['R0']\n",
    "del mat['R0']\n",
    "del mat['W0']\n",
    "matt = mat['W_0'][0]\n",
    "W0 = extract_w0_new(mat) # get parametrization\n",
    "R0 = extract_r0_new(mat) # get reduced dyn\n",
    "# assemble symbolic expression for reduced dyn\n",
    "reduced_dyn = p1*0\n",
    "R0[0]['coeffs'] = R0[0]['coeffs'].item().toarray()\n",
    "coeffs_numpy = [0]\n",
    "for r in R0:\n",
    "    ind_ = r['ind'][0][0]\n",
    "    coeff = r['coeffs'][0][0].real\n",
    "    reduced_dyn += coeff * p1**ind_\n",
    "    coeffs_numpy.append(coeff)\n",
    "# assemble coefficients for parametrization.\n",
    "# need to recover the laminar solution as well and the simulated trajectories: \n",
    "filename = '/Users/bkaszas/data_for_matlab_coeffs_nontriv_fp_kolmogorov/data_sept21_re_%s_' %(Re)\n",
    "filename = filename.replace('.', '__')\n",
    "filename += '.mat'\n",
    "dat = hdf5storage.read(filename = filename)\n",
    "w_0_ft = dat['w0']\n",
    "plus = dat['plus']\n",
    "minus = dat['minus']\n",
    "\n",
    "coeffs_param = [w_0_ft]\n",
    "for w in W0:\n",
    "    coeff = w['coeffs']\n",
    "    coeffs_param.append(np.squeeze(coeff))\n",
    "\n",
    "xis_numpy = np.linspace(-500, 500, 3000).reshape(-1,1)\n",
    "fig = plt.figure(figsize = (15, 5))\n",
    "ax = fig.add_subplot(131)\n",
    "ax2 = fig.add_subplot(132)\n",
    "ax3 = fig.add_subplot(133)\n",
    "nu = 1/Re\n",
    "w_0 = -Re * torch.cos(4 * y)/4\n",
    "w_0_ft = torch.fft.fftn(w_0).ravel()\n",
    "w_0_ft.retain_grad()\n",
    "rh = lambda x : rhs_torch_fourier_tf(x, kx, ky, nu, x, y, n1, n2)\n",
    "# find unstable eigenvalue and eigenvector\n",
    "jac = torch.autograd.functional.jacobian(rh, w_0_ft)\n",
    "s, v = torch.linalg.eig(jac)\n",
    "ss = s.numpy()\n",
    "lamb = np.max(ss.real)\n",
    "eig_index = np.argmax(ss.real)\n",
    "w_1 = v[:,eig_index].real\n",
    "\n",
    "time_length = 20 / lamb\n",
    "teval = np.linspace(0, time_length, 5000)\n",
    "\n",
    "\n",
    "ax.plot(teval, minus[20,:], c= 'black')\n",
    "ax.plot(teval, plus[20,:],  c= 'black')\n",
    "ax.set_title('Heteroclinic orbit')\n",
    "for o in range(3, 16):\n",
    "    mfd = approximate_mfd(xis_numpy, o, coeffs_param).T\n",
    "    ax2.plot(mfd[28,:], mfd[20,:])\n",
    "\n",
    "\n",
    "ax2.plot(minus[28,:], minus[20,:], c= 'black')\n",
    "ax2.plot(plus[28,:], plus[20,:],  c= 'black')\n",
    "ax2.set_title('Parametrization')\n",
    "xis_numpy = np.linspace(-800, 800, 3000).reshape(-1,1)\n",
    "\n",
    "for o in range(10, 16):\n",
    "    red_dyn = approximate_mfd(xis_numpy, o, coeffs_numpy).T\n",
    "    ax3.plot(np.squeeze(xis_numpy), np.squeeze(red_dyn))\n",
    "    fixedpoint = np.roots(coeffs_numpy[:o][::-1])\n",
    "    real_fixedpoints = fixedpoint[fixedpoint.imag == 0]\n",
    "    filt = np.logical_and(real_fixedpoints<800, real_fixedpoints>-800)\n",
    "    fp =real_fixedpoints[filt]\n",
    "    ax3.plot(fp, fp*0, '.', markersize = 10)\n",
    "\n",
    "\n",
    "ax3.set_title('Dynamics')\n",
    "# ax.plot(minus[28,:], minus[20,:], c= 'black')\n",
    "# ax.plot(plus[28,:], plus[20,:],  c= 'black')\n",
    "ax.grid()\n",
    "ax2.grid()\n",
    "ax3.grid()\n",
    "    \n",
    "    \n",
    "    #plt.plot(p_28(xis_numpy) / q_28(xis_numpy), p_20(xis_numpy) / q_20(xis_numpy), c='violet')\n"
   ]
  },
  {
   "cell_type": "markdown",
   "id": "5077dd66-1719-45dc-817a-d2a321575f7b",
   "metadata": {
    "tags": []
   },
   "source": [
    "## Select the wave numbers to visualize"
   ]
  },
  {
   "cell_type": "code",
   "execution_count": 36,
   "id": "993103ae-f694-4b4b-89be-642b9ca9e7d0",
   "metadata": {},
   "outputs": [],
   "source": [
    "indices = np.arange(0, 576, 1)\n",
    "where_lam = np.abs(plus[:,0])>1"
   ]
  },
  {
   "cell_type": "code",
   "execution_count": 37,
   "id": "43b33eba-74e8-4c00-b956-493d43a21b7e",
   "metadata": {},
   "outputs": [
    {
     "data": {
      "text/plain": [
       "array([ 4, 20])"
      ]
     },
     "execution_count": 37,
     "metadata": {},
     "output_type": "execute_result"
    }
   ],
   "source": [
    "indices[where_lam]"
   ]
  },
  {
   "cell_type": "markdown",
   "id": "024cf966-0b5e-48b8-8e1b-d73fb1a3416d",
   "metadata": {},
   "source": [
    "Same with the nontriv fp:"
   ]
  },
  {
   "cell_type": "code",
   "execution_count": 38,
   "id": "d5fcf22a-aa47-4cbc-92a7-24c92e554738",
   "metadata": {},
   "outputs": [],
   "source": [
    "indices = np.arange(0, 576, 1)\n",
    "where_nontriv = np.abs(plus[:,-1])>1"
   ]
  },
  {
   "cell_type": "code",
   "execution_count": 43,
   "id": "3860666b-fe00-460c-922e-eff25b6258be",
   "metadata": {},
   "outputs": [],
   "source": [
    "ind1, ind2, ind3 = 20, 28, 44"
   ]
  },
  {
   "cell_type": "code",
   "execution_count": 44,
   "id": "52d50de3-6733-4112-b78c-b3a88c21cd41",
   "metadata": {},
   "outputs": [],
   "source": [
    "from scipy.interpolate import pade"
   ]
  },
  {
   "cell_type": "code",
   "execution_count": 45,
   "id": "00d7887c-895d-4dce-932c-51fa07002496",
   "metadata": {},
   "outputs": [
    {
     "name": "stderr",
     "output_type": "stream",
     "text": [
      "/opt/anaconda3/lib/python3.8/site-packages/scipy/interpolate/_pade.py:63: LinAlgWarning: Ill-conditioned matrix (rcond=4.73436e-32): result may not be accurate.\n",
      "  pq = linalg.solve(C, an)\n"
     ]
    }
   ],
   "source": [
    "p, q = pade(coeffs_numpy, 7, 7)\n",
    "#p_512, q_512 = pade(coeffs_512, 3, 3)"
   ]
  },
  {
   "cell_type": "code",
   "execution_count": 47,
   "id": "cc2e4d88-e1da-4435-8ed4-7407757e468d",
   "metadata": {},
   "outputs": [],
   "source": [
    "orders = [3, 5, 11, 16]"
   ]
  },
  {
   "cell_type": "code",
   "execution_count": 48,
   "id": "19807d1b-e883-4c17-83c3-b2af7dbd6f24",
   "metadata": {},
   "outputs": [],
   "source": [
    "colors = plt.cm.coolwarm(np.linspace(0,1,len(orders)))"
   ]
  },
  {
   "cell_type": "markdown",
   "id": "ccba1bd9-c1ea-412a-be73-2b1ff59b5499",
   "metadata": {},
   "source": [
    "### "
   ]
  },
  {
   "cell_type": "code",
   "execution_count": 49,
   "id": "ca547b4f-a489-44a2-9d33-eac834fe1a8e",
   "metadata": {},
   "outputs": [
    {
     "data": {
      "text/plain": [
       "[3, 5, 11, 16]"
      ]
     },
     "execution_count": 49,
     "metadata": {},
     "output_type": "execute_result"
    }
   ],
   "source": [
    "orders"
   ]
  },
  {
   "cell_type": "code",
   "execution_count": 97,
   "id": "7996b118-5628-410f-b402-d3c717df039e",
   "metadata": {},
   "outputs": [
    {
     "data": {
      "image/png": "[encoded data removed]",
      "text/plain": [
       "<Figure size 432x288 with 1 Axes>"
      ]
     },
     "metadata": {
      "needs_background": "light"
     },
     "output_type": "display_data"
    }
   ],
   "source": [
    "fig = plt.figure()\n",
    "ax3 = fig.add_subplot(111)\n",
    "\n",
    "xis_numpy = np.linspace(-900, 1500, 3000).reshape(-1,1)\n",
    "\n",
    "for i,o in enumerate(orders):\n",
    "    red_dyn = approximate_mfd(xis_numpy, o, coeffs_numpy).T\n",
    "    if o == 16:\n",
    "        ax3.plot(1*np.squeeze(xis_numpy), 1 *np.squeeze(red_dyn), '-', c=colors[i])\n",
    "    fixedpoint = np.roots(coeffs_numpy[:o][::-1])\n",
    "    real_fixedpoints = fixedpoint[fixedpoint.imag == 0]\n",
    "    filt = np.logical_and(real_fixedpoints<800, real_fixedpoints>-800)\n",
    "    fp =real_fixedpoints[filt]\n",
    "    #ax3.plot(prefac*fp, fp*0, '.', markersize = 10)\n",
    "#ax3.plot(1* np.squeeze(xis_numpy) , 1 * p_3(np.squeeze(xis_numpy)) / q_3(np.squeeze(xis_numpy)),  '--', c= 'Orange')\n",
    "ax3.plot(1* np.squeeze(xis_numpy) , 1 * p_5(np.squeeze(xis_numpy)) / q_5(np.squeeze(xis_numpy)),  '-', c= 'Orange')\n",
    "ax3.plot(0,0,'.', c='black', markersize = 15.)\n",
    "ax3.plot(xis_numpy[1725,0],0.,'.', c='red', markersize = 15.)\n",
    "#ax3.plot(447.3447395, 0., '.')\n",
    "\n",
    "\n",
    "\n",
    "# ax_cbar = fig.add_axes([0.58, 0.23, 0.22, 0.01])\n",
    "\n",
    "# cb = mpl.colorbar.ColorbarBase(ax_cbar, values = orders, orientation='horizontal', \n",
    "#                                cmap=cmap)\n",
    "# ax_cbar.set_title('Taylor order', fontsize = 12)\n",
    "ax3.set_ylim(-15, 15)\n",
    "\n",
    "ax3.set_xlim(-150, 800)\n",
    "#ax3.grid()\n",
    "ax3.plot(np.squeeze(xis_numpy), np.squeeze(xis_numpy)*0, '--', linewidth = 0.8, c='black')\n",
    "#ax3.plot(reduced_plus[0,:], ddxi_plus)\n",
    "\n",
    "#ax3.plot(reduced_minus[0,:], ddxi_minus)\n",
    "plt.savefig('figs/to_manuscript_dynamics_fewer.pdf', bbox_inches='tight')"
   ]
  },
  {
   "cell_type": "code",
   "execution_count": 131,
   "id": "ba7ac227-e26a-4b39-bae0-0dfbdf0c75e7",
   "metadata": {},
   "outputs": [
    {
     "name": "stderr",
     "output_type": "stream",
     "text": [
      "/var/folders/63/3f75hvg57sg3ft1y4q72fj8mrcdrwp/T/ipykernel_58689/1393043957.py:4: RuntimeWarning: overflow encountered in square\n",
      "  omega += xi**o * omega_list[o]\n",
      "/var/folders/63/3f75hvg57sg3ft1y4q72fj8mrcdrwp/T/ipykernel_58689/1393043957.py:4: RuntimeWarning: overflow encountered in power\n",
      "  omega += xi**o * omega_list[o]\n",
      "/var/folders/63/3f75hvg57sg3ft1y4q72fj8mrcdrwp/T/ipykernel_58689/1393043957.py:4: RuntimeWarning: invalid value encountered in add\n",
      "  omega += xi**o * omega_list[o]\n"
     ]
    },
    {
     "data": {
      "image/png": "[encoded data removed]",
      "text/plain": [
       "<Figure size 492.48x324 with 1 Axes>"
      ]
     },
     "metadata": {
      "needs_background": "light"
     },
     "output_type": "display_data"
    }
   ],
   "source": [
    "ff = plt.figure(figsize = (1.5*3*1.52, 1.5*3))\n",
    "ax = ff.add_subplot(111)\n",
    "ax.plot(-teval, minus[20,:][::-1], c= 'black')\n",
    "\n",
    "for i,o in enumerate(orders):\n",
    "    ## integrate reduced model backward:\n",
    "    red_lam = lambda t,x: approximate_mfd(x, o, coeffs_numpy).T\n",
    "    ic_nn = approximate_mfd(ic_xi, o, coeffs_param).T\n",
    "    \n",
    "    # forward_full = solve_ivp(ode_rhs, [0, time_length], ic_nn, t_eval=teval).y\n",
    "    # backward_full = solve_ivp(ode_rhs, [0,-time_length], ic_nn, t_eval=-teval).y\n",
    "    \n",
    "    forward_red = solve_ivp(red_lam, [0, time_length], [ic_xi], t_eval=teval).y\n",
    "    backward_red = solve_ivp(red_lam, [0,-time_length], [ic_xi], t_eval=-teval)\n",
    "    \n",
    "    forward_red_par = approximate_mfd(forward_red.T, o, coeffs_param).T\n",
    "    backward_red_par = approximate_mfd(backward_red.y.T, o, coeffs_param).T\n",
    "#    plt.plot(backward_red.t, backward_red.y[0,:], '-', c=colors[i])\n",
    "    if o == 16:\n",
    "        ax.plot(backward_red.t, backward_red_par[20,:], '-', c=colors[i])\n",
    "    \n",
    "rade_red = lambda t, x :  p_5(np.squeeze(x)) / q_5(np.squeeze(x))\n",
    "backward_pade_red = solve_ivp(rade_red, [0,-time_length], [ic_xi], t_eval=-teval)\n",
    "backward_red_pade_par = p_20_5(np.squeeze(backward_pade_red.y)) / q_20_5(np.squeeze(backward_pade_red.y))\n",
    "ax.plot(-teval, backward_red_pade_par, '-', c='orange')\n",
    "ax.plot(0, minus[20,-1], '.', c='black', markersize = 7)\n",
    "ax.plot(-500, minus[20,0], '.', c='red', markersize = 7)\n",
    "\n",
    "ax.set_ylim(-900, -500)\n",
    "ax.set_xlim(-505, 5)\n",
    "plt.savefig('figs/time_domain_integrate__fewer.pdf', bbox_inches='tight')\n",
    "    #    plt.plot(teval, forward_full[20,:], mfd[44,:], c=colors[i])"
   ]
  }
 ],
 "metadata": {
  "hide_input": false,
  "kernelspec": {
   "display_name": "Python 3 (ipykernel)",
   "language": "python",
   "name": "python3"
  },
  "language_info": {
   "codemirror_mode": {
    "name": "ipython",
    "version": 3
   },
   "file_extension": ".py",
   "mimetype": "text/x-python",
   "name": "python",
   "nbconvert_exporter": "python",
   "pygments_lexer": "ipython3",
   "version": "3.9.7"
  },
  "toc": {
   "base_numbering": 1,
   "nav_menu": {},
   "number_sections": true,
   "sideBar": true,
   "skip_h1_title": false,
   "title_cell": "Table of Contents",
   "title_sidebar": "Contents",
   "toc_cell": false,
   "toc_position": {},
   "toc_section_display": true,
   "toc_window_display": false
  }
 },
 "nbformat": 4,
 "nbformat_minor": 5
}
