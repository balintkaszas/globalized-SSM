{
 "cells": [
  {
   "cell_type": "markdown",
   "id": "d9767b31-9ed7-4723-939d-89c0293f21b3",
   "metadata": {},
   "source": [
    "# Expanding the slow SSM in Kolmogorov flow"
   ]
  },
  {
   "cell_type": "markdown",
   "id": "d27ca127-f2b8-4fa9-94de-049875941c3c",
   "metadata": {},
   "source": [
    "We solve the vorticity equation\n",
    "\n",
    "$$\n",
    "\\frac{\\partial \\omega }{\\partial t} = \\nu \\Delta \\omega - (u\\cdot \\nabla)\\omega + F.\n",
    "$$\n",
    "\n",
    "The laminar solution is \n",
    "\n",
    "$$\n",
    "\\omega_0 = \\frac{1}{4\\nu}\\cos(4 y) \n",
    "$$\n",
    "\n",
    "with \n",
    "$$\n",
    "\\frac{\\partial \\omega_0}{\\partial t} = 0\n",
    "$$\n",
    "\n",
    "We solve following ordinary differential equations in Fourier-space\n",
    "\n",
    "$$\n",
    "    \\frac{d\\hat{\\omega}}{dt} = -\\frac{1}{\\text{Re}}(k_x^2 + k_y^2) \\hat{\\omega} - \\widehat{(\\mathbf{u}\\cdot \\nabla )\\omega} - 4 \\delta_{k_y, 4} \\delta_{k_x,0},\n",
    "$$\n",
    "for the discrete wave numbers $k_x,k_y=-12, ..., 12$, resulting in a total of $576$ degrees of freedom. The nonlinearity is evaluated by introducing the stream function $\\psi(x,y)$ as \n",
    "$$\n",
    "\\mathbf{u} = \\begin{pmatrix} \\partial_y \\psi  \\\\ -\\partial_x \\psi \\end{pmatrix}.\n",
    "$$\n",
    "The streamfunction can be recovered by solving the Poisson equation in Fourier space\n",
    "\\begin{equation}\n",
    "     (k_x^2 + k_y^2)\\hat{\\psi} = -\\hat{\\omega}.\n",
    "\\end{equation}\n",
    "The inverse Fourier transform of $\\hat{\\psi}$ then allows us to evaluate the nonlinearity $(\\mathbf{u}\\cdot \\nabla )\\omega$ in real space and take the Fourier transform subsequently. For dealiasing, we use the 3/2 scheme\n"
   ]
  },
  {
   "cell_type": "markdown",
   "id": "9af0d531-3f32-49f1-8d2b-8d5b2d7a2292",
   "metadata": {},
   "source": [
    "The spectral simulation is based on the matlab code of Mohammad Farazmand. See __M. Farazmand, A. K. Saibaba (2023) Tensor-based flow reconstruction from optimally located sensor measurements. JFM 962__"
   ]
  },
  {
   "cell_type": "code",
   "execution_count": 39,
   "id": "15b916e9-6abe-4d39-86f6-7c11dddf39b6",
   "metadata": {},
   "outputs": [],
   "source": [
    "import numpy as np\n",
    "import torch\n",
    "from kolmogorov import gvars, rhs_torch_fourier_tf, newton_method\n",
    "from scipy.integrate import solve_ivp\n",
    "from tqdm import tqdm\n",
    "import hdf5storage\n",
    "L1 = 2*np.pi\n",
    "L2 = 2*np.pi \n",
    "n1 = 24\n",
    "n2 = 24\n",
    "\n",
    "x, y, kx, ky = gvars(n1,n2,L1,L2)\n",
    "x = torch.tensor(x, dtype = torch.float64, device=\"cpu\").requires_grad_(True)\n",
    "y = torch.tensor(y, dtype = torch.float64,device=\"cpu\").requires_grad_(True)\n",
    "kx = torch.tensor(kx, dtype = torch.float64, device=\"cpu\").requires_grad_(True)\n",
    "ky = torch.tensor(ky, dtype = torch.float64, device=\"cpu\").requires_grad_(True)\n"
   ]
  },
  {
   "cell_type": "markdown",
   "id": "efcb8b1a-2795-45d0-aa9d-34adf96bcce0",
   "metadata": {},
   "source": [
    "## Heteroclinic orbit"
   ]
  },
  {
   "cell_type": "markdown",
   "id": "9d1c36db-410c-4466-b252-a9f9794d0767",
   "metadata": {},
   "source": [
    "The laminar solution becomes unstable at around $Re=9.1$, after which a pair of new stable fixed points and the saddle-type laminar exist. \n",
    "Here we construct the slow spectral submanifold (SSM) of one of the new fixed points, denoted $\\omega_1$. To find this fixed point, we first integrate forward along the unstable manifold of the laminar state at $Re=11$. "
   ]
  },
  {
   "cell_type": "code",
   "execution_count": 3,
   "id": "d896c624-5920-48ae-8976-08ed207ad686",
   "metadata": {},
   "outputs": [],
   "source": [
    "Re = 11"
   ]
  },
  {
   "cell_type": "code",
   "execution_count": 4,
   "id": "1f5f03c0-b97b-4f2b-88d7-fae382d08187",
   "metadata": {},
   "outputs": [],
   "source": [
    "nu = 1/Re\n",
    "w_0 = -Re * torch.cos(4 * y)/4\n",
    "w_0_ft = torch.fft.fftn(w_0).ravel()\n",
    "w_0_ft.retain_grad()\n",
    "rh = lambda x : rhs_torch_fourier_tf(x, kx, ky, nu, x, y, n1, n2)"
   ]
  },
  {
   "cell_type": "code",
   "execution_count": 6,
   "id": "8b136bfd-28b2-4c3d-b6d7-8f3bd0e12dc6",
   "metadata": {},
   "outputs": [
    {
     "name": "stdout",
     "output_type": "stream",
     "text": [
      "11 0.040500138545508116\n"
     ]
    }
   ],
   "source": [
    "jac = torch.autograd.functional.jacobian(rh, w_0_ft)\n",
    "s, v = torch.linalg.eig(jac)\n",
    "ss = s.numpy()\n",
    "lamb = np.max(ss.real)\n",
    "eig_index = np.argmax(ss.real)\n",
    "print(Re, lamb,)\n"
   ]
  },
  {
   "cell_type": "code",
   "execution_count": 7,
   "id": "de91896f-5bbf-41be-9c14-5940a7d4f1f7",
   "metadata": {},
   "outputs": [],
   "source": [
    "def ode_rhs(t, x):\n",
    "        w_flat = torch.tensor(x)\n",
    "        return rhs_torch_fourier_tf(w_flat, kx, ky, nu, x, y, n1, n2).detach().numpy()"
   ]
  },
  {
   "cell_type": "markdown",
   "id": "e5938a79-1608-4556-9524-f893efe8061b",
   "metadata": {},
   "source": [
    "We integrate forward in time until $\\lambda t \\approx 20$"
   ]
  },
  {
   "cell_type": "code",
   "execution_count": 10,
   "id": "40fad2e6-497a-4b1c-bcf3-a17dcbb12b9a",
   "metadata": {},
   "outputs": [],
   "source": [
    "time_length = 20 / lamb\n",
    "teval = np.linspace(0, time_length, 5000)\n",
    "ic_plus = (w_0_ft + 1e-1 * w_1).detach()\n",
    "ic_minus =(w_0_ft - 1e-1 * w_1).detach()\n",
    "plus = solve_ivp(ode_rhs, [0,time_length], ic_plus, t_eval=teval).y\n",
    "minus = solve_ivp(ode_rhs, [0,time_length], ic_minus, t_eval=teval).y"
   ]
  },
  {
   "cell_type": "markdown",
   "id": "9f70fa81-d93e-47fa-b67f-3910c0bf03ee",
   "metadata": {},
   "source": [
    "## Nontrivial fixed point"
   ]
  },
  {
   "cell_type": "code",
   "execution_count": 28,
   "id": "f853a4ab-30bd-49af-9616-df54d82f21ca",
   "metadata": {},
   "outputs": [
    {
     "name": "stdout",
     "output_type": "stream",
     "text": [
      "Newton method starts\n",
      "Newton method ends\n"
     ]
    }
   ],
   "source": [
    "# find the fixed point\n",
    "print('Newton method starts')\n",
    "sol = newton_method(rh, torch.tensor(minus[:,-1]))\n",
    "print('Newton method ends')\n",
    "jac = torch.autograd.functional.jacobian(rh, sol['x'])\n",
    "s, v = torch.linalg.eig(jac)\n",
    "sortedEig, indices=torch.sort(s.real, dim=0, descending=True)\n",
    "w_0orted = v[:, indices]\n",
    "lamb = s[indices][1]\n",
    "w_1 = w_0orted[:, 1] #exclude zero eigenvalue    \n",
    "## coeffs for ssmtool:\n"
   ]
  },
  {
   "cell_type": "code",
   "execution_count": 25,
   "id": "3bcbc05a-b9bf-4335-98dc-bb7743b9210d",
   "metadata": {},
   "outputs": [
    {
     "data": {
      "text/plain": [
       "1"
      ]
     },
     "execution_count": 25,
     "metadata": {},
     "output_type": "execute_result"
    }
   ],
   "source": [
    "sol['success']b"
   ]
  },
  {
   "cell_type": "markdown",
   "id": "950e2133-2146-4cce-9f8f-f91bd581544b",
   "metadata": {},
   "source": [
    "We also save the left eigenvalue"
   ]
  },
  {
   "cell_type": "code",
   "execution_count": 32,
   "id": "9c953323-561f-44c2-8af8-8b788d314085",
   "metadata": {},
   "outputs": [],
   "source": [
    "s_left, v_left = torch.linalg.eig(torch.conj(jac).T)\n",
    "sortedEig, indices=torch.sort(s_left.real, dim=0, descending=True)\n",
    "w_0orted_left = v_left[:, indices]\n",
    "lamb = s_left[indices][1]\n",
    "w_1_left = w_0orted_left[:, 1] #exclude zero eigenvalue    \n",
    "## coeffs for ssmtool:"
   ]
  },
  {
   "cell_type": "code",
   "execution_count": 19,
   "id": "2cc8337d-cde7-4b13-bda6-20a12f760b77",
   "metadata": {},
   "outputs": [],
   "source": [
    "ss_left = s_left.numpy()\n",
    "lamb = np.max(ss_left.real)\n",
    "eig_index_left = np.argmax(ss_left.real)"
   ]
  },
  {
   "cell_type": "code",
   "execution_count": 21,
   "id": "a4b5b7de-9bc0-4940-b5fc-28e808f81c45",
   "metadata": {},
   "outputs": [],
   "source": [
    "w_1_left = v_left[:,eig_index_left].real\n"
   ]
  },
  {
   "cell_type": "markdown",
   "id": "ea62f698-e521-4cbe-88eb-fb50f2ca1682",
   "metadata": {},
   "source": [
    "We use [SSMTool](https://github.com/haller-group/SSMTool-2.4) for the subsequent computations, which requires the nonlinear coefficients of the RHS of the ODE expressed around the $\\omega_1$ fixed point, i.e. the constant term must be zero. We obtain these coefficients by Taylor-expanding using automatic differentiation. Since the vorticity equation is quadratic, it suffices to compute the Jacobian and the second derivative-tensor. "
   ]
  },
  {
   "cell_type": "code",
   "execution_count": 37,
   "id": "fa82edb6-2e70-4617-b9c3-9e65882fa909",
   "metadata": {},
   "outputs": [
    {
     "name": "stderr",
     "output_type": "stream",
     "text": [
      "100%|█████████████████████████████████████████| 576/576 [02:22<00:00,  4.05it/s]\n"
     ]
    }
   ],
   "source": [
    "jac_fn = lambda x : torch.autograd.functional.jacobian(rh, x, create_graph = True)\n",
    "hess = []\n",
    "for ii in tqdm(range(576)):\n",
    "    rhs_component_i = lambda x : rh(x)[ii]\n",
    "    jac_fn = lambda x : torch.autograd.functional.jacobian(rhs_component_i, x, create_graph = True)\n",
    "    hess.append(torch.autograd.functional.jacobian(jac_fn, sol['x']))\n",
    "hh = np.array([h.numpy() for h in hess])"
   ]
  },
  {
   "cell_type": "code",
   "execution_count": 40,
   "id": "d2796d71-6816-4e3e-acd2-6f8de26c0a21",
   "metadata": {},
   "outputs": [],
   "source": [
    "to_matlab = {}\n",
    "to_matlab['hessian'] = hh \n",
    "to_matlab['jacobian'] = np.array(jac)\n",
    "to_matlab['w0'] = sol['x'].detach().numpy()\n",
    "to_matlab['w1'] = w_1.detach().numpy()\n",
    "to_matlab['plus'] = plus\n",
    "to_matlab['minus'] = minus\n",
    "to_matlab['lamb'] = lamb.item().real\n",
    "to_matlab['w_1_left'] = w_1_left.detach().numpy()\n",
    "hdf5storage.write(to_matlab,  filename = \"Kolmogorov_coefficients_around_fp.mat\", matlab_compatible=True)\n"
   ]
  }
 ],
 "metadata": {
  "kernelspec": {
   "display_name": "Python 3 (ipykernel)",
   "language": "python",
   "name": "python3"
  },
  "language_info": {
   "codemirror_mode": {
    "name": "ipython",
    "version": 3
   },
   "file_extension": ".py",
   "mimetype": "text/x-python",
   "name": "python",
   "nbconvert_exporter": "python",
   "pygments_lexer": "ipython3",
   "version": "3.8.8"
  }
 },
 "nbformat": 4,
 "nbformat_minor": 5
}
